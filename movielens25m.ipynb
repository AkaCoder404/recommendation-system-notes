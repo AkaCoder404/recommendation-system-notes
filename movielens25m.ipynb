{
 "cells": [
  {
   "cell_type": "markdown",
   "metadata": {},
   "source": [
    "# Recommendation System with MovieLens Dataset\n",
    "Related datasets can be found here http://grouplens.org/datasets/movielens/\n"
   ]
  },
  {
   "cell_type": "code",
   "execution_count": 1,
   "metadata": {},
   "outputs": [],
   "source": [
    "import os\n",
    "import pandas as pd\n",
    "from datetime import datetime\n",
    "from matplotlib import pyplot as plt\n",
    "\n",
    "from scipy.sparse import csr_matrix"
   ]
  },
  {
   "cell_type": "code",
   "execution_count": 9,
   "metadata": {},
   "outputs": [
    {
     "name": "stderr",
     "output_type": "stream",
     "text": [
      "--2024-06-19 10:52:16--  https://files.grouplens.org/datasets/movielens/ml-100k.zip\n",
      "正在解析主机 files.grouplens.org (files.grouplens.org)... 128.101.65.152\n",
      "正在连接 files.grouplens.org (files.grouplens.org)|128.101.65.152|:443... 已连接。\n",
      "已发出 HTTP 请求，正在等待回应... 200 OK\n",
      "长度：4924029 (4.7M) [application/zip]\n",
      "正在保存至: “data/ml-100k.zip”\n",
      "\n",
      "     0K .......... .......... .......... .......... ..........  1% 81.9K 58s\n",
      "    50K .......... .......... .......... .......... ..........  2%  183K 42s\n",
      "   100K .......... .......... .......... .......... ..........  3% 7.47M 28s\n",
      "   150K .......... .......... .......... .......... ..........  4%  101K 32s\n",
      "   200K .......... .......... .......... .......... ..........  5%  117M 25s\n",
      "   250K .......... .......... .......... .......... ..........  6%  233M 21s\n",
      "   300K .......... .......... .......... .......... ..........  7%  215K 21s\n",
      "   350K .......... .......... .......... .......... ..........  8% 2.29M 18s\n",
      "   400K .......... .......... .......... .......... ..........  9%  216K 18s\n",
      "   450K .......... .......... .......... .......... .......... 10% 3.13M 16s\n",
      "   500K .......... .......... .......... .......... .......... 11%  221K 16s\n",
      "   550K .......... .......... .......... .......... .......... 12% 2.55M 15s\n",
      "   600K .......... .......... .......... .......... .......... 13%  248K 15s\n",
      "   650K .......... .......... .......... .......... .......... 14% 1.16M 14s\n",
      "   700K .......... .......... .......... .......... .......... 15% 3.66M 13s\n",
      "   750K .......... .......... .......... .......... .......... 16%  227K 13s\n",
      "   800K .......... .......... .......... .......... .......... 17% 1.61M 12s\n",
      "   850K .......... .......... .......... .......... .......... 18%  244K 12s\n",
      "   900K .......... .......... .......... .......... .......... 19% 1.30M 12s\n",
      "   950K .......... .......... .......... .......... .......... 20%  268K 12s\n",
      "  1000K .......... .......... .......... .......... .......... 21%  993K 11s\n",
      "  1050K .......... .......... .......... .......... .......... 22% 6.99M 11s\n",
      "  1100K .......... .......... .......... .......... .......... 23%  255K 11s\n",
      "  1150K .......... .......... .......... .......... .......... 24% 1.24M 10s\n",
      "  1200K .......... .......... .......... .......... .......... 25%  260K 10s\n",
      "  1250K .......... .......... .......... .......... .......... 27%  969K 10s\n",
      "  1300K .......... .......... .......... .......... .......... 28%  311K 10s\n",
      "  1350K .......... .......... .......... .......... .......... 29%  798K 9s\n",
      "  1400K .......... .......... .......... .......... .......... 30% 2.26M 9s\n",
      "  1450K .......... .......... .......... .......... .......... 31%  271K 9s\n",
      "  1500K .......... .......... .......... .......... .......... 32%  847K 9s\n",
      "  1550K .......... .......... .......... .......... .......... 33% 4.62M 8s\n",
      "  1600K .......... .......... .......... .......... .......... 34%  240K 8s\n",
      "  1650K .......... .......... .......... .......... .......... 35% 1.45M 8s\n",
      "  1700K .......... .......... .......... .......... .......... 36%  297K 8s\n",
      "  1750K .......... .......... .......... .......... .......... 37%  746K 8s\n",
      "  1800K .......... .......... .......... .......... .......... 38% 5.08M 7s\n",
      "  1850K .......... .......... .......... .......... .......... 39%  296K 7s\n",
      "  1900K .......... .......... .......... .......... .......... 40%  807K 7s\n",
      "  1950K .......... .......... .......... .......... .......... 41%  358K 7s\n",
      "  2000K .......... .......... .......... .......... .......... 42%  522K 7s\n",
      "  2050K .......... .......... .......... .......... .......... 43% 3.68M 7s\n",
      "  2100K .......... .......... .......... .......... .......... 44%  299K 6s\n",
      "  2150K .......... .......... .......... .......... .......... 45%  564K 6s\n",
      "  2200K .......... .......... .......... .......... .......... 46% 76.7M 6s\n",
      "  2250K .......... .......... .......... .......... .......... 47%  283K 6s\n",
      "  2300K .......... .......... .......... .......... .......... 48%  718K 6s\n",
      "  2350K .......... .......... .......... .......... .......... 49%  455K 6s\n",
      "  2400K .......... .......... .......... .......... .......... 50%  380K 6s\n",
      "  2450K .......... .......... .......... .......... .......... 51% 6.91M 5s\n",
      "  2500K .......... .......... .......... .......... .......... 53%  344K 5s\n",
      "  2550K .......... .......... .......... .......... .......... 54%  523K 5s\n",
      "  2600K .......... .......... .......... .......... .......... 55%  502K 5s\n",
      "  2650K .......... .......... .......... .......... .......... 56%  814K 5s\n",
      "  2700K .......... .......... .......... .......... .......... 57%  548K 5s\n",
      "  2750K .......... .......... .......... .......... .......... 58%  430K 5s\n",
      "  2800K .......... .......... .......... .......... .......... 59%  377K 5s\n",
      "  2850K .......... .......... .......... .......... .......... 60%  699K 4s\n",
      "  2900K .......... .......... .......... .......... .......... 61%  704K 4s\n",
      "  2950K .......... .......... .......... .......... .......... 62%  507K 4s\n",
      "  3000K .......... .......... .......... .......... .......... 63%  520K 4s\n",
      "  3050K .......... .......... .......... .......... .......... 64%  388K 4s\n",
      "  3100K .......... .......... .......... .......... .......... 65% 2.27M 4s\n",
      "  3150K .......... .......... .......... .......... .......... 66%  432K 4s\n",
      "  3200K .......... .......... .......... .......... .......... 67%  395K 3s\n",
      "  3250K .......... .......... .......... .......... .......... 68%  524K 3s\n",
      "  3300K .......... .......... .......... .......... .......... 69% 1.43M 3s\n",
      "  3350K .......... .......... .......... .......... .......... 70%  400K 3s\n",
      "  3400K .......... .......... .......... .......... .......... 71%  507K 3s\n",
      "  3450K .......... .......... .......... .......... .......... 72%  414K 3s\n",
      "  3500K .......... .......... .......... .......... .......... 73% 1.87M 3s\n",
      "  3550K .......... .......... .......... .......... .......... 74%  494K 3s\n",
      "  3600K .......... .......... .......... .......... .......... 75%  412K 3s\n",
      "  3650K .......... .......... .......... .......... .......... 76%  491K 2s\n",
      "  3700K .......... .......... .......... .......... .......... 77% 1.86M 2s\n",
      "  3750K .......... .......... .......... .......... .......... 79%  370K 2s\n",
      "  3800K .......... .......... .......... .......... .......... 80%  600K 2s\n",
      "  3850K .......... .......... .......... .......... .......... 81% 1.93M 2s\n",
      "  3900K .......... .......... .......... .......... .......... 82%  373K 2s\n",
      "  3950K .......... .......... .......... .......... .......... 83%  587K 2s\n",
      "  4000K .......... .......... .......... .......... .......... 84%  345K 2s\n",
      "  4050K .......... .......... .......... .......... .......... 85% 1.13M 2s\n",
      "  4100K .......... .......... .......... .......... .......... 86%  633K 1s\n",
      "  4150K .......... .......... .......... .......... .......... 87%  637K 1s\n",
      "  4200K .......... .......... .......... .......... .......... 88%  611K 1s\n",
      "  4250K .......... .......... .......... .......... .......... 89%  995K 1s\n",
      "  4300K .......... .......... .......... .......... .......... 90% 1.20M 1s\n",
      "  4350K .......... .......... .......... .......... .......... 91%  326K 1s\n",
      "  4400K .......... .......... .......... .......... .......... 92%  988K 1s\n",
      "  4450K .......... .......... .......... .......... .......... 93%  477K 1s\n",
      "  4500K .......... .......... .......... .......... .......... 94%  484K 1s\n",
      "  4550K .......... .......... .......... .......... .......... 95% 1.98M 0s\n",
      "  4600K .......... .......... .......... .......... .......... 96% 1.12M 0s\n",
      "  4650K .......... .......... .......... .......... .......... 97%  439K 0s\n",
      "  4700K .......... .......... .......... .......... .......... 98%  581K 0s\n",
      "  4750K .......... .......... .......... .......... .......... 99% 1.25M 0s\n",
      "  4800K ........                                              100% 5.18M=9.8s\n",
      "\n",
      "2024-06-19 10:52:27 (488 KB/s) - 已保存 “data/ml-100k.zip” [4924029/4924029])\n",
      "\n"
     ]
    },
    {
     "name": "stdout",
     "output_type": "stream",
     "text": [
      "Archive:  data/ml-100k.zip\n",
      "   creating: data/ml-100k/\n",
      "  inflating: data/ml-100k/allbut.pl  \n",
      "  inflating: data/ml-100k/mku.sh     \n",
      "  inflating: data/ml-100k/README     \n",
      "  inflating: data/ml-100k/u.data     \n",
      "  inflating: data/ml-100k/u.genre    \n",
      "  inflating: data/ml-100k/u.info     \n",
      "  inflating: data/ml-100k/u.item     \n",
      "  inflating: data/ml-100k/u.occupation  \n",
      "  inflating: data/ml-100k/u.user     \n",
      "  inflating: data/ml-100k/u1.base    \n",
      "  inflating: data/ml-100k/u1.test    \n",
      "  inflating: data/ml-100k/u2.base    \n",
      "  inflating: data/ml-100k/u2.test    \n",
      "  inflating: data/ml-100k/u3.base    \n",
      "  inflating: data/ml-100k/u3.test    \n",
      "  inflating: data/ml-100k/u4.base    \n",
      "  inflating: data/ml-100k/u4.test    \n",
      "  inflating: data/ml-100k/u5.base    \n",
      "  inflating: data/ml-100k/u5.test    \n",
      "  inflating: data/ml-100k/ua.base    \n",
      "  inflating: data/ml-100k/ua.test    \n",
      "  inflating: data/ml-100k/ub.base    \n",
      "  inflating: data/ml-100k/ub.test    \n"
     ]
    }
   ],
   "source": [
    "link = \"https://files.grouplens.org/datasets/movielens/ml-25m.zip\"\n",
    "\n",
    "# download to ./data if not already downloaded\n",
    "target = \"data/ml-25m\"\n",
    "if not os.path.exists(\"data/ml-25m\"):\n",
    "    os.system(\"wget \" + link + \" -P data\")\n",
    "    os.system(f\"unzip {target}.zip -d data\")\n",
    "    os.system(f\"rm {target}.zip\")"
   ]
  },
  {
   "cell_type": "code",
   "execution_count": 14,
   "metadata": {},
   "outputs": [
    {
     "ename": "FileNotFoundError",
     "evalue": "[Errno 2] No such file or directory: 'data/ml-100k/movies.csv'",
     "output_type": "error",
     "traceback": [
      "\u001b[0;31m---------------------------------------------------------------------------\u001b[0m",
      "\u001b[0;31mFileNotFoundError\u001b[0m                         Traceback (most recent call last)",
      "Cell \u001b[0;32mIn[14], line 6\u001b[0m\n\u001b[1;32m      3\u001b[0m tags_csv_path \u001b[38;5;241m=\u001b[39m \u001b[38;5;124m\"\u001b[39m\u001b[38;5;124mtags.csv\u001b[39m\u001b[38;5;124m\"\u001b[39m\n\u001b[1;32m      4\u001b[0m genome, genome_tags \u001b[38;5;241m=\u001b[39m \u001b[38;5;124m\"\u001b[39m\u001b[38;5;124mgenome-scores.csv\u001b[39m\u001b[38;5;124m\"\u001b[39m, \u001b[38;5;124m\"\u001b[39m\u001b[38;5;124mgenome-tags.csv\u001b[39m\u001b[38;5;124m\"\u001b[39m\n\u001b[0;32m----> 6\u001b[0m movies_df \u001b[38;5;241m=\u001b[39m \u001b[43mpd\u001b[49m\u001b[38;5;241;43m.\u001b[39;49m\u001b[43mread_csv\u001b[49m\u001b[43m(\u001b[49m\u001b[38;5;124;43mf\u001b[39;49m\u001b[38;5;124;43m\"\u001b[39;49m\u001b[38;5;132;43;01m{\u001b[39;49;00m\u001b[43mtarget\u001b[49m\u001b[38;5;132;43;01m}\u001b[39;49;00m\u001b[38;5;124;43m/\u001b[39;49m\u001b[38;5;124;43m\"\u001b[39;49m\u001b[43m \u001b[49m\u001b[38;5;241;43m+\u001b[39;49m\u001b[43m \u001b[49m\u001b[43mmovies_csv_path\u001b[49m\u001b[43m)\u001b[49m\n\u001b[1;32m      7\u001b[0m \u001b[38;5;28mprint\u001b[39m(\u001b[38;5;124m\"\u001b[39m\u001b[38;5;124mSize of movies.csv: \u001b[39m\u001b[38;5;124m\"\u001b[39m, movies_df\u001b[38;5;241m.\u001b[39mshape)\n\u001b[1;32m      8\u001b[0m movies_df\u001b[38;5;241m.\u001b[39mhead(\u001b[38;5;241m5\u001b[39m)\n",
      "File \u001b[0;32m~/Developer/miniconda3/envs/py311/lib/python3.11/site-packages/pandas/io/parsers/readers.py:948\u001b[0m, in \u001b[0;36mread_csv\u001b[0;34m(filepath_or_buffer, sep, delimiter, header, names, index_col, usecols, dtype, engine, converters, true_values, false_values, skipinitialspace, skiprows, skipfooter, nrows, na_values, keep_default_na, na_filter, verbose, skip_blank_lines, parse_dates, infer_datetime_format, keep_date_col, date_parser, date_format, dayfirst, cache_dates, iterator, chunksize, compression, thousands, decimal, lineterminator, quotechar, quoting, doublequote, escapechar, comment, encoding, encoding_errors, dialect, on_bad_lines, delim_whitespace, low_memory, memory_map, float_precision, storage_options, dtype_backend)\u001b[0m\n\u001b[1;32m    935\u001b[0m kwds_defaults \u001b[38;5;241m=\u001b[39m _refine_defaults_read(\n\u001b[1;32m    936\u001b[0m     dialect,\n\u001b[1;32m    937\u001b[0m     delimiter,\n\u001b[0;32m   (...)\u001b[0m\n\u001b[1;32m    944\u001b[0m     dtype_backend\u001b[38;5;241m=\u001b[39mdtype_backend,\n\u001b[1;32m    945\u001b[0m )\n\u001b[1;32m    946\u001b[0m kwds\u001b[38;5;241m.\u001b[39mupdate(kwds_defaults)\n\u001b[0;32m--> 948\u001b[0m \u001b[38;5;28;01mreturn\u001b[39;00m \u001b[43m_read\u001b[49m\u001b[43m(\u001b[49m\u001b[43mfilepath_or_buffer\u001b[49m\u001b[43m,\u001b[49m\u001b[43m \u001b[49m\u001b[43mkwds\u001b[49m\u001b[43m)\u001b[49m\n",
      "File \u001b[0;32m~/Developer/miniconda3/envs/py311/lib/python3.11/site-packages/pandas/io/parsers/readers.py:611\u001b[0m, in \u001b[0;36m_read\u001b[0;34m(filepath_or_buffer, kwds)\u001b[0m\n\u001b[1;32m    608\u001b[0m _validate_names(kwds\u001b[38;5;241m.\u001b[39mget(\u001b[38;5;124m\"\u001b[39m\u001b[38;5;124mnames\u001b[39m\u001b[38;5;124m\"\u001b[39m, \u001b[38;5;28;01mNone\u001b[39;00m))\n\u001b[1;32m    610\u001b[0m \u001b[38;5;66;03m# Create the parser.\u001b[39;00m\n\u001b[0;32m--> 611\u001b[0m parser \u001b[38;5;241m=\u001b[39m \u001b[43mTextFileReader\u001b[49m\u001b[43m(\u001b[49m\u001b[43mfilepath_or_buffer\u001b[49m\u001b[43m,\u001b[49m\u001b[43m \u001b[49m\u001b[38;5;241;43m*\u001b[39;49m\u001b[38;5;241;43m*\u001b[39;49m\u001b[43mkwds\u001b[49m\u001b[43m)\u001b[49m\n\u001b[1;32m    613\u001b[0m \u001b[38;5;28;01mif\u001b[39;00m chunksize \u001b[38;5;129;01mor\u001b[39;00m iterator:\n\u001b[1;32m    614\u001b[0m     \u001b[38;5;28;01mreturn\u001b[39;00m parser\n",
      "File \u001b[0;32m~/Developer/miniconda3/envs/py311/lib/python3.11/site-packages/pandas/io/parsers/readers.py:1448\u001b[0m, in \u001b[0;36mTextFileReader.__init__\u001b[0;34m(self, f, engine, **kwds)\u001b[0m\n\u001b[1;32m   1445\u001b[0m     \u001b[38;5;28mself\u001b[39m\u001b[38;5;241m.\u001b[39moptions[\u001b[38;5;124m\"\u001b[39m\u001b[38;5;124mhas_index_names\u001b[39m\u001b[38;5;124m\"\u001b[39m] \u001b[38;5;241m=\u001b[39m kwds[\u001b[38;5;124m\"\u001b[39m\u001b[38;5;124mhas_index_names\u001b[39m\u001b[38;5;124m\"\u001b[39m]\n\u001b[1;32m   1447\u001b[0m \u001b[38;5;28mself\u001b[39m\u001b[38;5;241m.\u001b[39mhandles: IOHandles \u001b[38;5;241m|\u001b[39m \u001b[38;5;28;01mNone\u001b[39;00m \u001b[38;5;241m=\u001b[39m \u001b[38;5;28;01mNone\u001b[39;00m\n\u001b[0;32m-> 1448\u001b[0m \u001b[38;5;28mself\u001b[39m\u001b[38;5;241m.\u001b[39m_engine \u001b[38;5;241m=\u001b[39m \u001b[38;5;28;43mself\u001b[39;49m\u001b[38;5;241;43m.\u001b[39;49m\u001b[43m_make_engine\u001b[49m\u001b[43m(\u001b[49m\u001b[43mf\u001b[49m\u001b[43m,\u001b[49m\u001b[43m \u001b[49m\u001b[38;5;28;43mself\u001b[39;49m\u001b[38;5;241;43m.\u001b[39;49m\u001b[43mengine\u001b[49m\u001b[43m)\u001b[49m\n",
      "File \u001b[0;32m~/Developer/miniconda3/envs/py311/lib/python3.11/site-packages/pandas/io/parsers/readers.py:1705\u001b[0m, in \u001b[0;36mTextFileReader._make_engine\u001b[0;34m(self, f, engine)\u001b[0m\n\u001b[1;32m   1703\u001b[0m     \u001b[38;5;28;01mif\u001b[39;00m \u001b[38;5;124m\"\u001b[39m\u001b[38;5;124mb\u001b[39m\u001b[38;5;124m\"\u001b[39m \u001b[38;5;129;01mnot\u001b[39;00m \u001b[38;5;129;01min\u001b[39;00m mode:\n\u001b[1;32m   1704\u001b[0m         mode \u001b[38;5;241m+\u001b[39m\u001b[38;5;241m=\u001b[39m \u001b[38;5;124m\"\u001b[39m\u001b[38;5;124mb\u001b[39m\u001b[38;5;124m\"\u001b[39m\n\u001b[0;32m-> 1705\u001b[0m \u001b[38;5;28mself\u001b[39m\u001b[38;5;241m.\u001b[39mhandles \u001b[38;5;241m=\u001b[39m \u001b[43mget_handle\u001b[49m\u001b[43m(\u001b[49m\n\u001b[1;32m   1706\u001b[0m \u001b[43m    \u001b[49m\u001b[43mf\u001b[49m\u001b[43m,\u001b[49m\n\u001b[1;32m   1707\u001b[0m \u001b[43m    \u001b[49m\u001b[43mmode\u001b[49m\u001b[43m,\u001b[49m\n\u001b[1;32m   1708\u001b[0m \u001b[43m    \u001b[49m\u001b[43mencoding\u001b[49m\u001b[38;5;241;43m=\u001b[39;49m\u001b[38;5;28;43mself\u001b[39;49m\u001b[38;5;241;43m.\u001b[39;49m\u001b[43moptions\u001b[49m\u001b[38;5;241;43m.\u001b[39;49m\u001b[43mget\u001b[49m\u001b[43m(\u001b[49m\u001b[38;5;124;43m\"\u001b[39;49m\u001b[38;5;124;43mencoding\u001b[39;49m\u001b[38;5;124;43m\"\u001b[39;49m\u001b[43m,\u001b[49m\u001b[43m \u001b[49m\u001b[38;5;28;43;01mNone\u001b[39;49;00m\u001b[43m)\u001b[49m\u001b[43m,\u001b[49m\n\u001b[1;32m   1709\u001b[0m \u001b[43m    \u001b[49m\u001b[43mcompression\u001b[49m\u001b[38;5;241;43m=\u001b[39;49m\u001b[38;5;28;43mself\u001b[39;49m\u001b[38;5;241;43m.\u001b[39;49m\u001b[43moptions\u001b[49m\u001b[38;5;241;43m.\u001b[39;49m\u001b[43mget\u001b[49m\u001b[43m(\u001b[49m\u001b[38;5;124;43m\"\u001b[39;49m\u001b[38;5;124;43mcompression\u001b[39;49m\u001b[38;5;124;43m\"\u001b[39;49m\u001b[43m,\u001b[49m\u001b[43m \u001b[49m\u001b[38;5;28;43;01mNone\u001b[39;49;00m\u001b[43m)\u001b[49m\u001b[43m,\u001b[49m\n\u001b[1;32m   1710\u001b[0m \u001b[43m    \u001b[49m\u001b[43mmemory_map\u001b[49m\u001b[38;5;241;43m=\u001b[39;49m\u001b[38;5;28;43mself\u001b[39;49m\u001b[38;5;241;43m.\u001b[39;49m\u001b[43moptions\u001b[49m\u001b[38;5;241;43m.\u001b[39;49m\u001b[43mget\u001b[49m\u001b[43m(\u001b[49m\u001b[38;5;124;43m\"\u001b[39;49m\u001b[38;5;124;43mmemory_map\u001b[39;49m\u001b[38;5;124;43m\"\u001b[39;49m\u001b[43m,\u001b[49m\u001b[43m \u001b[49m\u001b[38;5;28;43;01mFalse\u001b[39;49;00m\u001b[43m)\u001b[49m\u001b[43m,\u001b[49m\n\u001b[1;32m   1711\u001b[0m \u001b[43m    \u001b[49m\u001b[43mis_text\u001b[49m\u001b[38;5;241;43m=\u001b[39;49m\u001b[43mis_text\u001b[49m\u001b[43m,\u001b[49m\n\u001b[1;32m   1712\u001b[0m \u001b[43m    \u001b[49m\u001b[43merrors\u001b[49m\u001b[38;5;241;43m=\u001b[39;49m\u001b[38;5;28;43mself\u001b[39;49m\u001b[38;5;241;43m.\u001b[39;49m\u001b[43moptions\u001b[49m\u001b[38;5;241;43m.\u001b[39;49m\u001b[43mget\u001b[49m\u001b[43m(\u001b[49m\u001b[38;5;124;43m\"\u001b[39;49m\u001b[38;5;124;43mencoding_errors\u001b[39;49m\u001b[38;5;124;43m\"\u001b[39;49m\u001b[43m,\u001b[49m\u001b[43m \u001b[49m\u001b[38;5;124;43m\"\u001b[39;49m\u001b[38;5;124;43mstrict\u001b[39;49m\u001b[38;5;124;43m\"\u001b[39;49m\u001b[43m)\u001b[49m\u001b[43m,\u001b[49m\n\u001b[1;32m   1713\u001b[0m \u001b[43m    \u001b[49m\u001b[43mstorage_options\u001b[49m\u001b[38;5;241;43m=\u001b[39;49m\u001b[38;5;28;43mself\u001b[39;49m\u001b[38;5;241;43m.\u001b[39;49m\u001b[43moptions\u001b[49m\u001b[38;5;241;43m.\u001b[39;49m\u001b[43mget\u001b[49m\u001b[43m(\u001b[49m\u001b[38;5;124;43m\"\u001b[39;49m\u001b[38;5;124;43mstorage_options\u001b[39;49m\u001b[38;5;124;43m\"\u001b[39;49m\u001b[43m,\u001b[49m\u001b[43m \u001b[49m\u001b[38;5;28;43;01mNone\u001b[39;49;00m\u001b[43m)\u001b[49m\u001b[43m,\u001b[49m\n\u001b[1;32m   1714\u001b[0m \u001b[43m\u001b[49m\u001b[43m)\u001b[49m\n\u001b[1;32m   1715\u001b[0m \u001b[38;5;28;01massert\u001b[39;00m \u001b[38;5;28mself\u001b[39m\u001b[38;5;241m.\u001b[39mhandles \u001b[38;5;129;01mis\u001b[39;00m \u001b[38;5;129;01mnot\u001b[39;00m \u001b[38;5;28;01mNone\u001b[39;00m\n\u001b[1;32m   1716\u001b[0m f \u001b[38;5;241m=\u001b[39m \u001b[38;5;28mself\u001b[39m\u001b[38;5;241m.\u001b[39mhandles\u001b[38;5;241m.\u001b[39mhandle\n",
      "File \u001b[0;32m~/Developer/miniconda3/envs/py311/lib/python3.11/site-packages/pandas/io/common.py:863\u001b[0m, in \u001b[0;36mget_handle\u001b[0;34m(path_or_buf, mode, encoding, compression, memory_map, is_text, errors, storage_options)\u001b[0m\n\u001b[1;32m    858\u001b[0m \u001b[38;5;28;01melif\u001b[39;00m \u001b[38;5;28misinstance\u001b[39m(handle, \u001b[38;5;28mstr\u001b[39m):\n\u001b[1;32m    859\u001b[0m     \u001b[38;5;66;03m# Check whether the filename is to be opened in binary mode.\u001b[39;00m\n\u001b[1;32m    860\u001b[0m     \u001b[38;5;66;03m# Binary mode does not support 'encoding' and 'newline'.\u001b[39;00m\n\u001b[1;32m    861\u001b[0m     \u001b[38;5;28;01mif\u001b[39;00m ioargs\u001b[38;5;241m.\u001b[39mencoding \u001b[38;5;129;01mand\u001b[39;00m \u001b[38;5;124m\"\u001b[39m\u001b[38;5;124mb\u001b[39m\u001b[38;5;124m\"\u001b[39m \u001b[38;5;129;01mnot\u001b[39;00m \u001b[38;5;129;01min\u001b[39;00m ioargs\u001b[38;5;241m.\u001b[39mmode:\n\u001b[1;32m    862\u001b[0m         \u001b[38;5;66;03m# Encoding\u001b[39;00m\n\u001b[0;32m--> 863\u001b[0m         handle \u001b[38;5;241m=\u001b[39m \u001b[38;5;28;43mopen\u001b[39;49m\u001b[43m(\u001b[49m\n\u001b[1;32m    864\u001b[0m \u001b[43m            \u001b[49m\u001b[43mhandle\u001b[49m\u001b[43m,\u001b[49m\n\u001b[1;32m    865\u001b[0m \u001b[43m            \u001b[49m\u001b[43mioargs\u001b[49m\u001b[38;5;241;43m.\u001b[39;49m\u001b[43mmode\u001b[49m\u001b[43m,\u001b[49m\n\u001b[1;32m    866\u001b[0m \u001b[43m            \u001b[49m\u001b[43mencoding\u001b[49m\u001b[38;5;241;43m=\u001b[39;49m\u001b[43mioargs\u001b[49m\u001b[38;5;241;43m.\u001b[39;49m\u001b[43mencoding\u001b[49m\u001b[43m,\u001b[49m\n\u001b[1;32m    867\u001b[0m \u001b[43m            \u001b[49m\u001b[43merrors\u001b[49m\u001b[38;5;241;43m=\u001b[39;49m\u001b[43merrors\u001b[49m\u001b[43m,\u001b[49m\n\u001b[1;32m    868\u001b[0m \u001b[43m            \u001b[49m\u001b[43mnewline\u001b[49m\u001b[38;5;241;43m=\u001b[39;49m\u001b[38;5;124;43m\"\u001b[39;49m\u001b[38;5;124;43m\"\u001b[39;49m\u001b[43m,\u001b[49m\n\u001b[1;32m    869\u001b[0m \u001b[43m        \u001b[49m\u001b[43m)\u001b[49m\n\u001b[1;32m    870\u001b[0m     \u001b[38;5;28;01melse\u001b[39;00m:\n\u001b[1;32m    871\u001b[0m         \u001b[38;5;66;03m# Binary mode\u001b[39;00m\n\u001b[1;32m    872\u001b[0m         handle \u001b[38;5;241m=\u001b[39m \u001b[38;5;28mopen\u001b[39m(handle, ioargs\u001b[38;5;241m.\u001b[39mmode)\n",
      "\u001b[0;31mFileNotFoundError\u001b[0m: [Errno 2] No such file or directory: 'data/ml-100k/movies.csv'"
     ]
    }
   ],
   "source": [
    "movies_csv_path = \"movies.csv\"\n",
    "ratings_csv_path = \"ratings.csv\"\n",
    "tags_csv_path = \"tags.csv\"\n",
    "genome, genome_tags = \"genome-scores.csv\", \"genome-tags.csv\"\n",
    "\n",
    "movies_df = pd.read_csv(\"./data/ml-25m/\" + movies_csv_path)\n",
    "print(\"Size of movies.csv: \", movies_df.shape)\n",
    "movies_df.head(5)"
   ]
  },
  {
   "cell_type": "code",
   "execution_count": 11,
   "metadata": {},
   "outputs": [
    {
     "data": {
      "text/plain": [
       "Text(0.5, 1.0, 'Year counts')"
      ]
     },
     "execution_count": 11,
     "metadata": {},
     "output_type": "execute_result"
    },
    {
     "data": {
      "image/png": "[encoded data removed]",
      "text/plain": [
       "<Figure size 2000x500 with 2 Axes>"
      ]
     },
     "metadata": {},
     "output_type": "display_data"
    }
   ],
   "source": [
    "fig, axes = plt.subplots(ncols=2, nrows=1, figsize=(20, 5))\n",
    "\n",
    "# Graph genres counts\n",
    "genres = movies_df[\"genres\"].str.split(\"|\", expand=True)\n",
    "genres = genres.stack().value_counts()\n",
    "genres.plot(kind=\"bar\", ax=axes[0])\n",
    "\n",
    "# Plot year counts\n",
    "movies_df[\"year\"] = movies_df[\"title\"].str.extract(r\"\\((\\d{4})\\)\")\n",
    "movies_df[\"year\"] = movies_df[\"year\"].astype(float)\n",
    "movies_df[\"year\"].plot(kind=\"hist\", ax=axes[1])\n",
    "\n",
    "# Add some titles\n",
    "axes[0].set_title(\"Genres counts\")\n",
    "axes[1].set_title(\"Year counts\")\n",
    "\n"
   ]
  },
  {
   "cell_type": "code",
   "execution_count": 12,
   "metadata": {},
   "outputs": [
    {
     "name": "stdout",
     "output_type": "stream",
     "text": [
      "Size of ratings.csv:  (25000095, 4)\n"
     ]
    },
    {
     "data": {
      "text/html": [
       "<div>\n",
       "<style scoped>\n",
       "    .dataframe tbody tr th:only-of-type {\n",
       "        vertical-align: middle;\n",
       "    }\n",
       "\n",
       "    .dataframe tbody tr th {\n",
       "        vertical-align: top;\n",
       "    }\n",
       "\n",
       "    .dataframe thead th {\n",
       "        text-align: right;\n",
       "    }\n",
       "</style>\n",
       "<table border=\"1\" class=\"dataframe\">\n",
       "  <thead>\n",
       "    <tr style=\"text-align: right;\">\n",
       "      <th></th>\n",
       "      <th>userId</th>\n",
       "      <th>movieId</th>\n",
       "      <th>rating</th>\n",
       "      <th>timestamp</th>\n",
       "    </tr>\n",
       "  </thead>\n",
       "  <tbody>\n",
       "    <tr>\n",
       "      <th>0</th>\n",
       "      <td>1</td>\n",
       "      <td>296</td>\n",
       "      <td>5.0</td>\n",
       "      <td>1147880044</td>\n",
       "    </tr>\n",
       "    <tr>\n",
       "      <th>1</th>\n",
       "      <td>1</td>\n",
       "      <td>306</td>\n",
       "      <td>3.5</td>\n",
       "      <td>1147868817</td>\n",
       "    </tr>\n",
       "    <tr>\n",
       "      <th>2</th>\n",
       "      <td>1</td>\n",
       "      <td>307</td>\n",
       "      <td>5.0</td>\n",
       "      <td>1147868828</td>\n",
       "    </tr>\n",
       "    <tr>\n",
       "      <th>3</th>\n",
       "      <td>1</td>\n",
       "      <td>665</td>\n",
       "      <td>5.0</td>\n",
       "      <td>1147878820</td>\n",
       "    </tr>\n",
       "    <tr>\n",
       "      <th>4</th>\n",
       "      <td>1</td>\n",
       "      <td>899</td>\n",
       "      <td>3.5</td>\n",
       "      <td>1147868510</td>\n",
       "    </tr>\n",
       "  </tbody>\n",
       "</table>\n",
       "</div>"
      ],
      "text/plain": [
       "   userId  movieId  rating   timestamp\n",
       "0       1      296     5.0  1147880044\n",
       "1       1      306     3.5  1147868817\n",
       "2       1      307     5.0  1147868828\n",
       "3       1      665     5.0  1147878820\n",
       "4       1      899     3.5  1147868510"
      ]
     },
     "execution_count": 12,
     "metadata": {},
     "output_type": "execute_result"
    }
   ],
   "source": [
    "ratings_df = pd.read_csv(\"./data/ml-25m/\" + ratings_csv_path)\n",
    "print(\"Size of ratings.csv: \", ratings_df.shape)\n",
    "# ratings_df['timestamp'] = pd.to_datetime(ratings_df['timestamp'], unit='s') # convert timestamp to datetime\n",
    "ratings_df.head(5)"
   ]
  },
  {
   "cell_type": "code",
   "execution_count": 7,
   "metadata": {},
   "outputs": [
    {
     "name": "stdout",
     "output_type": "stream",
     "text": [
      "Unique users: 162541\n",
      "Unique movies: 59047\n"
     ]
    }
   ],
   "source": [
    "unique_users = ratings_df[\"userId\"].nunique()\n",
    "unique_movies = ratings_df[\"movieId\"].nunique()\n",
    "\n",
    "print(f\"Unique users: {unique_users}\")\n",
    "print(f\"Unique movies: {unique_movies}\")"
   ]
  },
  {
   "cell_type": "code",
   "execution_count": 6,
   "metadata": {},
   "outputs": [
    {
     "name": "stdout",
     "output_type": "stream",
     "text": [
      "Total ratings before sampling: 25000095\n",
      "Total ratings after sampling: 2500010\n",
      "Train size: 2000008\n",
      "Test size: 500002\n"
     ]
    }
   ],
   "source": [
    "# Train/test split with 80/20 ratio, sample only 10% of the data\n",
    "seed = 42\n",
    "sample_size = 0.1\n",
    "print(f\"Total ratings before sampling: {len(ratings_df)}\")\n",
    "ratings_df = ratings_df.sample(frac=sample_size, random_state=seed)\n",
    "\n",
    "print(f\"Total ratings after sampling: {len(ratings_df)}\")\n",
    "\n",
    "train_size = int(0.8 * len(ratings_df))\n",
    "train_df = ratings_df[:train_size]\n",
    "test_df = ratings_df[train_size:]\n",
    "\n",
    "print(f\"Train size: {len(train_df)}\")\n",
    "print(f\"Test size: {len(test_df)}\")\n",
    "\n",
    "del ratings_df # to save memory"
   ]
  },
  {
   "cell_type": "markdown",
   "metadata": {},
   "source": [
    "## Memory Based Collaborative Filtering\n",
    "\n",
    "### User-Based CF\n",
    "\n",
    "- train_df memory size: 35304.67 MB\n",
    "- train_sparse memory size: 25.51 MB"
   ]
  },
  {
   "cell_type": "code",
   "execution_count": 10,
   "metadata": {},
   "outputs": [
    {
     "name": "stdout",
     "output_type": "stream",
     "text": [
      "Total memory usage: 23.51 MB\n",
      "Sparsity: 0.99994117\n"
     ]
    }
   ],
   "source": [
    "# Create the preference matrix,\n",
    "# train_df = train_df.pivot(index=\"userId\", columns=\"movieId\", values=\"rating\")\n",
    "# memory_usage = train_df.memory_usage().sum() # Calculate total memory usage\n",
    "# print(f\"Total memory usage: {memory_usage / 1024**2:.2f} MB\")\n",
    "\n",
    "\n",
    "# Create the preference matrix but with sparse\n",
    "train_sparse = csr_matrix((train_df[\"rating\"], (train_df[\"userId\"], train_df[\"movieId\"])))\n",
    "memory_usage = train_sparse.data.nbytes + train_sparse.indptr.nbytes + train_sparse.indices.nbytes\n",
    "print(f\"Total memory usage: {memory_usage / 1024**2:.2f} MB\")\n",
    "\n",
    "# Calcuate sparsity\n",
    "sparsity = 1 - (train_sparse.count_nonzero() / (train_sparse.shape[0] * train_sparse.shape[1]))\n",
    "print(f\"Sparsity: {sparsity:.8f}\")\n",
    "\n",
    "# del train_df # to save memory\n"
   ]
  },
  {
   "cell_type": "markdown",
   "metadata": {},
   "source": [
    "## Item-Based CF"
   ]
  },
  {
   "cell_type": "code",
   "execution_count": null,
   "metadata": {},
   "outputs": [],
   "source": []
  }
 ],
 "metadata": {
  "kernelspec": {
   "display_name": "py311",
   "language": "python",
   "name": "python3"
  },
  "language_info": {
   "codemirror_mode": {
    "name": "ipython",
    "version": 3
   },
   "file_extension": ".py",
   "mimetype": "text/x-python",
   "name": "python",
   "nbconvert_exporter": "python",
   "pygments_lexer": "ipython3",
   "version": "3.11.5"
  }
 },
 "nbformat": 4,
 "nbformat_minor": 2
}
